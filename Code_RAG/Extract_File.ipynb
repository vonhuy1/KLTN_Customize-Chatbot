{
 "cells": [
  {
   "cell_type": "markdown",
   "metadata": {},
   "source": [
    "## Lựa chọn thư viện extract file pdf"
   ]
  },
  {
   "cell_type": "code",
   "execution_count": 138,
   "metadata": {},
   "outputs": [
    {
     "name": "stdout",
     "output_type": "stream",
     "text": [
      "Using PyPDFLoader...\n",
      "Using ObsidianLoader...\n",
      "Using PDFMinerLoader...\n",
      "Using PDFPlumberLoader...\n"
     ]
    },
    {
     "name": "stderr",
     "output_type": "stream",
     "text": [
      "d:\\Set_Up\\Code_ipynb\\venv\\Lib\\site-packages\\pypdfium2\\_helpers\\textpage.py:80: UserWarning: get_text_range() call with default params will be implicitly redirected to get_text_bounded()\n",
      "  warnings.warn(\"get_text_range() call with default params will be implicitly redirected to get_text_bounded()\")\n"
     ]
    },
    {
     "name": "stdout",
     "output_type": "stream",
     "text": [
      "Using PyPDFium2Loader...\n",
      "Using UnstructuredPDFLoader...\n",
      "Using PyMuPDFLoader...\n",
      "Loader               Time (s)   Number of Pages\n",
      "==================================================\n",
      "PyPDFLoader          0.3044     3\n",
      "ObsidianLoader       0.0000     0\n",
      "PDFMinerLoader       0.1404     2\n",
      "PDFPlumberLoader     0.2266     3\n",
      "PyPDFium2Loader      0.0156     3\n",
      "UnstructuredPDFLoader 0.2397     2\n",
      "PyMuPDFLoader        0.0138     3\n"
     ]
    }
   ],
   "source": [
    "import time\n",
    "from langchain.text_splitter import RecursiveCharacterTextSplitter\n",
    "from langchain_community.document_loaders import PyPDFLoader\n",
    "from langchain.document_loaders import ObsidianLoader\n",
    "from langchain.document_loaders import PDFMinerLoader\n",
    "from langchain.document_loaders import PDFPlumberLoader\n",
    "from langchain.document_loaders import PyPDFium2Loader\n",
    "from langchain.document_loaders import UnstructuredPDFLoader\n",
    "from langchain.document_loaders import PyMuPDFLoader\n",
    "\n",
    "loaders = [\n",
    "    (\"PyPDFLoader\", PyPDFLoader),\n",
    "    (\"ObsidianLoader\", ObsidianLoader),\n",
    "    (\"PDFMinerLoader\", PDFMinerLoader),\n",
    "    (\"PDFPlumberLoader\", PDFPlumberLoader),\n",
    "    (\"PyPDFium2Loader\", PyPDFium2Loader),\n",
    "    (\"UnstructuredPDFLoader\", UnstructuredPDFLoader),\n",
    "    (\"PyMuPDFLoader\", PyMuPDFLoader)\n",
    "]\n",
    "\n",
    "pdf_path = \"./example_data/RachelGreenCV.pdf\"\n",
    "results = []\n",
    "for loader_name, LoaderClass in loaders:\n",
    "    print(f\"Using {loader_name}...\")\n",
    "    try:\n",
    "        start_time = time.time()\n",
    "        loader = LoaderClass(pdf_path)\n",
    "        pages = loader.load_and_split()\n",
    "        end_time = time.time()\n",
    "        elapsed_time = end_time - start_time\n",
    "        num_pages = len(pages)\n",
    "        results.append((loader_name, elapsed_time, num_pages))\n",
    "    except Exception as e:\n",
    "        print(f\"Failed to load using {loader_name}: {e}\")\n",
    "        results.append((loader_name, None, None))\n",
    "\n",
    "print(f\"{'Loader':<20} {'Time (s)':<10} {'Number of Pages'}\")\n",
    "print(\"=\"*50)\n",
    "for loader_name, elapsed_time, num_pages in results:\n",
    "    print(f\"{loader_name:<20} {elapsed_time:<10.4f} {num_pages}\")\n",
    "\n"
   ]
  },
  {
   "cell_type": "code",
   "execution_count": 139,
   "metadata": {},
   "outputs": [
    {
     "name": "stdout",
     "output_type": "stream",
     "text": [
      "Using PyPDFLoader...\n",
      "Using ObsidianLoader...\n",
      "Using PDFMinerLoader...\n",
      "Using PDFPlumberLoader...\n",
      "Using PyPDFium2Loader...\n",
      "Using UnstructuredPDFLoader...\n",
      "Using PyMuPDFLoader...\n",
      "Loader               Time (s)   Number of Pages\n",
      "==================================================\n",
      "PyPDFLoader          5.9078     113\n",
      "ObsidianLoader       0.0000     0\n",
      "PDFMinerLoader       9.0124     32\n",
      "PDFPlumberLoader     11.1527    113\n",
      "PyPDFium2Loader      0.4320     113\n",
      "UnstructuredPDFLoader 11.6131    32\n",
      "PyMuPDFLoader        0.1678     113\n"
     ]
    }
   ],
   "source": [
    "import time\n",
    "from langchain.text_splitter import RecursiveCharacterTextSplitter\n",
    "from langchain_community.document_loaders import PyPDFLoader\n",
    "from langchain.document_loaders import ObsidianLoader\n",
    "from langchain.document_loaders import PDFMinerLoader\n",
    "from langchain.document_loaders import PDFPlumberLoader\n",
    "from langchain.document_loaders import PyPDFium2Loader\n",
    "from langchain.document_loaders import UnstructuredPDFLoader\n",
    "from langchain.document_loaders import PyMuPDFLoader\n",
    "\n",
    "loaders = [\n",
    "    (\"PyPDFLoader\", PyPDFLoader),\n",
    "    (\"ObsidianLoader\", ObsidianLoader),\n",
    "    (\"PDFMinerLoader\", PDFMinerLoader),\n",
    "    (\"PDFPlumberLoader\", PDFPlumberLoader),\n",
    "    (\"PyPDFium2Loader\", PyPDFium2Loader),\n",
    "    (\"UnstructuredPDFLoader\", UnstructuredPDFLoader),\n",
    "    (\"PyMuPDFLoader\", PyMuPDFLoader)\n",
    "]\n",
    "\n",
    "pdf_path = \"./example_data/demo1.pdf\"\n",
    "results = []\n",
    "for loader_name, LoaderClass in loaders:\n",
    "    print(f\"Using {loader_name}...\")\n",
    "    try:\n",
    "        start_time = time.time()\n",
    "        loader = LoaderClass(pdf_path)\n",
    "        pages = loader.load_and_split()\n",
    "        end_time = time.time()\n",
    "        elapsed_time = end_time - start_time\n",
    "        num_pages = len(pages)\n",
    "        results.append((loader_name, elapsed_time, num_pages))\n",
    "    except Exception as e:\n",
    "        print(f\"Failed to load using {loader_name}: {e}\")\n",
    "        results.append((loader_name, None, None))\n",
    "\n",
    "print(f\"{'Loader':<20} {'Time (s)':<10} {'Number of Pages'}\")\n",
    "print(\"=\"*50)\n",
    "for loader_name, elapsed_time, num_pages in results:\n",
    "    print(f\"{loader_name:<20} {elapsed_time:<10.4f} {num_pages}\")\n"
   ]
  },
  {
   "cell_type": "code",
   "execution_count": 86,
   "metadata": {},
   "outputs": [],
   "source": [
    "loader = PyPDFLoader(\"./example_data/demo1.pdf\")\n",
    "pages_PyPDF = loader.load()"
   ]
  },
  {
   "cell_type": "code",
   "execution_count": 87,
   "metadata": {},
   "outputs": [
    {
     "name": "stdout",
     "output_type": "stream",
     "text": [
      "Trang|10CHƯƠNG2.CƠSỞLÝTHUYÊTVỀCHATBOT\n",
      "2.1.Chatbot\n",
      "2.1.1.Chatbotlàgì?\n",
      "Chatbot(cònđượcgọilachatterbot)lamộtứngdụngphầnmềmcóthểđượcsử\n",
      "dụngđểthựchiệncáccuộctròchuyệntrựctuyếnthôngquavănbảnhoặcchuyểnvănbản\n",
      "thanhgiọngnóithayvìtiếpxúctrựctiếpvớiconngười.TrợlýảoChatbotđượcsửdụng\n",
      "ngaycangnhiềuđểxửlýcáctácvụtìmkiếmđơngiảntrongcảmôitrườngdoanhnghiệp\n",
      "vớingườitiêudùngvadoanhnghiệpvớidoanhnghiệp.\n",
      "Chatbotcóthểcónhiềumứcđộphứctạpkhácnhau,khôngtrạngtháihoặccó\n",
      "trạngthái.Mộtchatbotkhôngtrạngtháitiếpcậnmỗicuộctròchuyệnnhưthểnóđang\n",
      "tươngtácvớimộtngườidùngmới.Ngượclại,mộtchatbottrạngtháicóthểxemxétcác\n",
      "tươngtáctrongquákhứvađịnhkhungcácphảnhồimớitheongữ.[1]\n",
      "Chatbotcóthểđượcphânchiathanhcácloạisauđây:\n",
      "●Chatbotcókịchbảnhoặctrảlờinhanh-Đâylanhữngchatbotcơbảnnhất;chúng\n",
      "hoạtđộngnhưmộtcâyquyếtđịnhphâncấp.Cácbotnaytươngtácvớingườidùng\n",
      "thôngquamộttậphợpcáccâuhỏiđượcxácđịnhtrướcsẽtiếntriểnchođếnkhi\n",
      "chatbottrảlờicâuhỏicủangườidùng.Tươngtự,chatbotdựatrêndanhmục(menu)\n",
      "yêucầungườidùngthựchiệncáclựachọntừdanhsáchđượcxácđịnhtrướcđể\n",
      "cungcấpchobothiểusâuhơnvềnhữnggìkháchhangđangtìmkiếm.\n",
      "●Chatbotdựatrênnhậndạngtừkhóa-Nhữngchatbotnayphứctạphơn,chúngcố\n",
      "gắnglắngnghenhữnggìngườidùngnhậpvaphảnhồitươngứngbằngcáchsửdụng\n",
      "cáctừkhóachọnđượctừphảnhồicủakháchhang.Cáctừkhóacóthểtùychỉnhva\n",
      "trítuệnhântạođượckếthợptrongbotnayđểcungcấpphảnhồithíchhợpcho\n",
      "ngườidùng.Nhữngchatbotnaythườnggặpkhókhănkhiphảiđốimặtvớiviệcsử\n",
      "dụngtừkhóalặpđilặplạihoặccáccâuhỏithừa.\n",
      "●Chatbotkếthợp-Nhữngchatbotnaykếthợpcácyếutốcủabotdựatrêndanhmục\n"
     ]
    }
   ],
   "source": [
    "print(pages_PyPDF[18].page_content)"
   ]
  },
  {
   "cell_type": "code",
   "execution_count": 141,
   "metadata": {},
   "outputs": [],
   "source": [
    "loader = PDFMinerLoader(\"./example_data/demo1.pdf\")\n",
    "pages_PdfMiner = loader.load_and_split()"
   ]
  },
  {
   "cell_type": "code",
   "execution_count": 147,
   "metadata": {},
   "outputs": [
    {
     "name": "stdout",
     "output_type": "stream",
     "text": [
      "page_content='Trang | 4\n",
      "\n",
      "\fHình 5. 12 Hình ảnh kết quả trả về khi sử dụng chatbot ở chế độ Model Finetune mô hình\n",
      "PhoBERT ............................................................................................................................. 80\n",
      "Hình 5. 13 Nút dừng trong quá trình chờ câu hỏi phản hồi ................................................81\n",
      "Hình 5. 14 Nút tạo lại khi hoan thanh câu trả lời ................................................................81\n",
      "Hình 5. 15 Hình ảnh các thao tác với đoạn chat ................................................................. 82\n",
      "Hình A. 1 Hình ảnh chọn Open Folder trong Visual Studio Code .....................................88\n",
      "Hình A. 2 Hình ảnh câu lệnh chạy ứng dụng trong Terminal ............................................ 89\n",
      "Hình A. 3 Hình ảnh giao diện ứng dụng khi mở trên trình duyệt .......................................90\n",
      "Hình B. 1 Giao diện chính của ứng dụng khi đăng nhập thanh công .................................91\n",
      "Hình B. 2 Chọn chức năng ChatBot-OpenAPI khi sử dụng chế độ cấu hình ChatBot ......92\n",
      "Hình B. 3 Chọn hình thức sử dụng Use_API_Key trong loại mô hình ChatBot_openAPI\n",
      "..............................................................................................................................................92\n",
      "Hình B. 4 Chọn mô hình sử dụng trong Use_API_Key ..................................................... 92\n",
      "Hình B. 5 Sử dụng Use_Breaber_Token trong chế độ ChatBot .........................................93\n",
      "Hình B. 6 Sử dụng text-davinci-003 ở chế độ ChatBot ......................................................94\n",
      "Hình B. 7 Hình ảnh chatbot ở chế độ Hộp thoại gợi ý ....................................................... 95\n",
      "Hình B. 8 Hình ảnh các chế độ sử dụng trong hộp thoại gợi ý ...........................................95\n",
      "Hình B. 9 Hình ảnh lời nhắc khi sử dụng 3 HCMUTE.json ...............................................96\n",
      "Hình B. 10 Kết quả trả về khi sử dụng lời nhắc trong Hộp thoại gợi ý ..............................96\n",
      "Hình B. 11 Hình ảnh chatbot khi sử dụng Rapid API ........................................................ 97\n",
      "Hình B. 12 Hình ảnh sử dụng Chatbot ở chế độ Google Bard ........................................... 98\n",
      "Hình B. 13 Hình ảnh chatbot khi sử dụng ChatGPT use APIkey ...................................... 99\n",
      "Hình B. 14 Sử dụng mô hình text-davinci-003 trong ChatGPT use APIKey .................. 100\n",
      "Hình B. 15 Giao diện chatbot khi dùng Model FineTune ................................................ 100\n",
      "Hình B. 16 Giao diện khi sử dụng FineTune_XLM_Roberta. ......................................... 101\n",
      "Hình B. 17 Hình ảnh các phiên bản tinh chỉnh cho mô hình PhoBERT .......................... 101\n",
      "Hình B. 18 Lựa chọn kích thước của phiên bản FineTune sử dụng .................................102\n",
      "Hình B. 19 Lựa chọn mô hình FineTune_OpenAI trong Model FineTune ..................... 102\n",
      "Hình B. 20 Hình thức sử dụng trong FineTune_OpenAI ................................................. 102\n",
      "Hình B. 21 Hình ảnh model khi sử dụng hình thức gpt-3.5-turbo ở FineTune_OpenAI .103\n",
      "Hình B. 22 Hình ảnh model khi sử dụng hình thức text-davinci-002 ở FineTune_OpenAI\n",
      "............................................................................................................................................103\n",
      "Hình B. 23 Hình ảnh ứng dụng chatbot khi sử dụng Hugging Face ................................ 104\n",
      "Hình B. 24 Hình ảnh các mô hình chat ở chế độ Hugging Face ...................................... 104\n",
      "\n",
      "Trang | 5\n",
      "\n",
      "\fDANH MỤC CÁC TỪ VIÊT TẮT\n",
      "\n",
      "Ký hiệu từ viết tắt\n",
      "\n",
      "Tên đầy đủ\n",
      "\n",
      "Diễn giải\n",
      "\n",
      "API\n",
      "\n",
      "TTS\n",
      "\n",
      "NLU\n",
      "\n",
      "NER\n",
      "\n",
      "NLG\n",
      "\n",
      "AI\n",
      "\n",
      "cmd\n",
      "\n",
      "NLP\n",
      "\n",
      "XLM-R\n",
      "\n",
      "NN\n",
      "\n",
      "CNN\n",
      "\n",
      "Application Programming\n",
      "Interface\n",
      "\n",
      "Giao diện lập trình ứng\n",
      "dụng\n",
      "\n",
      "Text To Speech\n",
      "\n",
      "Natural Language\n",
      "Understanding\n",
      "\n",
      "Chuyển đổi văn bản thanh\n",
      "giọng nói\n",
      "\n",
      "Hiểu ngôn ngữ tự nhiên\n",
      "\n",
      "Name Entity Recognition\n",
      "\n",
      "Nhận dạng thực thể\n",
      "\n",
      "Natural language\n",
      "generation\n",
      "\n",
      "Bộ sinh ngôn ngữ tự nhiên\n",
      "\n",
      "Artificial Intelligence' metadata={'source': './example_data/demo1.pdf'}\n"
     ]
    }
   ],
   "source": [
    "print(pages_PdfMiner[7])"
   ]
  },
  {
   "cell_type": "code",
   "execution_count": 127,
   "metadata": {},
   "outputs": [],
   "source": [
    "loader = PDFPlumberLoader(\"./example_data/demo1.pdf\")\n",
    "pages_PdfLumber = loader.load()"
   ]
  },
  {
   "cell_type": "code",
   "execution_count": 140,
   "metadata": {},
   "outputs": [
    {
     "name": "stdout",
     "output_type": "stream",
     "text": [
      "DANH MỤC CÁC TỪ VIÊT TẮT\n",
      "Ký hiệu từ viết tắt Tên đầy đủ Diễn giải\n",
      "API Application Programming Giao diện lập trình ứng\n",
      "Interface dụng\n",
      "TTS Text To Speech Chuyển đổi văn bản thanh\n",
      "giọng nói\n",
      "NLU Natural Language Hiểu ngôn ngữ tự nhiên\n",
      "Understanding\n",
      "NER Name Entity Recognition Nhận dạng thực thể\n",
      "NLG Natural language Bộ sinh ngôn ngữ tự nhiên\n",
      "generation\n",
      "AI Artificial Intelligence Trí tuệ nhân tạo\n",
      "cmd Command Prompt Dấu nhắc lệnh\n",
      "NLP Natural Language Xử lý ngôn ngữ tự nhiên\n",
      "Processing\n",
      "XLM-R Cross-lingual Language Mô hình ngôn ngữ đa ngôn\n",
      "Model- RoBERTa ngữ dựa trên mô hình\n",
      "RoBERTa\n",
      "NN Neural Network Mạng thần kinh nhân tạo\n",
      "CNN Convolutional Neural Mô hình mạng neural tích\n",
      "Network chập\n",
      "Trang| 6\n",
      "\n"
     ]
    }
   ],
   "source": [
    "print(pages_PdfLumber[14].page_content)"
   ]
  },
  {
   "cell_type": "code",
   "execution_count": 113,
   "metadata": {},
   "outputs": [
    {
     "name": "stderr",
     "output_type": "stream",
     "text": [
      "d:\\Set_Up\\Code_ipynb\\venv\\Lib\\site-packages\\pypdfium2\\_helpers\\textpage.py:80: UserWarning: get_text_range() call with default params will be implicitly redirected to get_text_bounded()\n",
      "  warnings.warn(\"get_text_range() call with default params will be implicitly redirected to get_text_bounded()\")\n"
     ]
    }
   ],
   "source": [
    "loader = PyPDFium2Loader(\"./example_data/demo1.pdf\")\n",
    "pages_Pdfium2 = loader.load()"
   ]
  },
  {
   "cell_type": "code",
   "execution_count": 114,
   "metadata": {},
   "outputs": [
    {
     "name": "stdout",
     "output_type": "stream",
     "text": [
      "page_content='Trang | 8\n",
      "1.2. Mục tiêu nghiên cứu\n",
      " Nghiên cứu lý thuyết, cách sử dụng các thư viện, API va áp dụng trong việc xây\n",
      "dựng chatbot. ● Nắm được cách tinh chỉnh mô hình ngôn ngữ tiếng Việt trong bai toán xây dựng\n",
      "chatbot như PhoBERT, BERT, XLM-R. ● Tìm hiểu ưu nhược điểm, tính năng của từng thư viện API trong việc xây dựng\n",
      "chatbot . ● Xây dựng ứng dụng demo Chatbot. 1.3. Đối tượng và phạm vi nghiên cứu\n",
      "Đối tượng nghiên cứu: Các thư viện hỗ trợ xây dựng Chatbot, các API hỗ trợ xây\n",
      "dựng chatbot va cách tinh chỉnh mô hình ngôn ngữ tiếng Việt trong việc xây dựng chatbot. Phạm vi nghiên cứu:\n",
      "● Phạm vi nghiên cứu của đề tai giới hạn trong việc tìm hiểu, cai đặt va so sánh các\n",
      "thư viện, API hỗ trợ xây dựng chatbot. ● Phạm vi nghiên cứu của đề tai được giới hạn trong ngôn ngữ lập trình Python. 1.4. Bố cục\n",
      "● Chương 1: Tổng quan: Sơ lược về đề tai, mục tiêu, đối tượng va phạm vi nghiên\n",
      "cứu, bố cục cuốn tiểu luận. ● Chương 2: Cơ sở lý thuyết về Chatbot. ⮚ Giới thiệu chatbot, các thanh phần cấu tạo va phân loại chatbot. ⮚ Tinh chỉnh mô hình trong xây dựng chatbot. ● Chương 3: Thư viện va API hỗ trợ xây dựng Chatbot. ⮚ Lý thuyết về thư viện xây dựng Chatbot trong ngôn ngữ lập trình Python. ⮚ Lý thuyết về API hỗ trợ xây dựng chatbot . ● Chương 4: Cai đặt thư viện va thực hiện tinh chỉnh mô hình Chatbot. ⮚ Mô tả cách cai đặt thư viện, API. ⮚ So sánh các thư viện va API hỗ trợ xây dựng chatbot.\n",
      "' metadata={'source': './example_data/demo1.pdf', 'page': 16}\n"
     ]
    }
   ],
   "source": [
    "print(pages_Pdfium2[16])"
   ]
  },
  {
   "cell_type": "code",
   "execution_count": 21,
   "metadata": {},
   "outputs": [],
   "source": [
    "loader = UnstructuredPDFLoader(\"./example_data/demo1.pdf\")\n",
    "pages_PdfUnstructured = loader.load()"
   ]
  },
  {
   "cell_type": "code",
   "execution_count": 148,
   "metadata": {},
   "outputs": [
    {
     "name": "stdout",
     "output_type": "stream",
     "text": [
      "page_content='Trang | 4\n",
      "\n",
      "Hình 5. 12 Hình ảnh kết quả trả về khi sử dụng chatbot ở chế độ Model Finetune mô hình PhoBERT ............................................................................................................................. 80 Hình 5. 13 Nút dừng trong quá trình chờ câu hỏi phản hồi ................................................81 Hình 5. 14 Nút tạo lại khi hoan thanh câu trả lời ................................................................81 Hình 5. 15 Hình ảnh các thao tác với đoạn chat ................................................................. 82 Hình A. 1 Hình ảnh chọn Open Folder trong Visual Studio Code .....................................88 Hình A. 2 Hình ảnh câu lệnh chạy ứng dụng trong Terminal ............................................ 89 Hình A. 3 Hình ảnh giao diện ứng dụng khi mở trên trình duyệt .......................................90 Hình B. 1 Giao diện chính của ứng dụng khi đăng nhập thanh công .................................91 Hình B. 2 Chọn chức năng ChatBot-OpenAPI khi sử dụng chế độ cấu hình ChatBot ......92 Hình B. 3 Chọn hình thức sử dụng Use_API_Key trong loại mô hình ChatBot_openAPI ..............................................................................................................................................92 Hình B. 4 Chọn mô hình sử dụng trong Use_API_Key ..................................................... 92 Hình B. 5 Sử dụng Use_Breaber_Token trong chế độ ChatBot .........................................93 Hình B. 6 Sử dụng text-davinci-003 ở chế độ ChatBot ......................................................94 Hình B. 7 Hình ảnh chatbot ở chế độ Hộp thoại gợi ý ....................................................... 95 Hình B. 8 Hình ảnh các chế độ sử dụng trong hộp thoại gợi ý ...........................................95 Hình B. 9 Hình ảnh lời nhắc khi sử dụng 3 HCMUTE.json ...............................................96 Hình B. 10 Kết quả trả về khi sử dụng lời nhắc trong Hộp thoại gợi ý ..............................96 Hình B. 11 Hình ảnh chatbot khi sử dụng Rapid API ........................................................ 97 Hình B. 12 Hình ảnh sử dụng Chatbot ở chế độ Google Bard ........................................... 98 Hình B. 13 Hình ảnh chatbot khi sử dụng ChatGPT use APIkey ...................................... 99 Hình B. 14 Sử dụng mô hình text-davinci-003 trong ChatGPT use APIKey .................. 100 Hình B. 15 Giao diện chatbot khi dùng Model FineTune ................................................ 100 Hình B. 16 Giao diện khi sử dụng FineTune_XLM_Roberta. ......................................... 101 Hình B. 17 Hình ảnh các phiên bản tinh chỉnh cho mô hình PhoBERT .......................... 101 Hình B. 18 Lựa chọn kích thước của phiên bản FineTune sử dụng .................................102 Hình B. 19 Lựa chọn mô hình FineTune_OpenAI trong Model FineTune ..................... 102 Hình B. 20 Hình thức sử dụng trong FineTune_OpenAI ................................................. 102 Hình B. 21 Hình ảnh model khi sử dụng hình thức gpt-3.5-turbo ở FineTune_OpenAI .103 Hình B. 22 Hình ảnh model khi sử dụng hình thức text-davinci-002 ở FineTune_OpenAI ............................................................................................................................................103 Hình B. 23 Hình ảnh ứng dụng chatbot khi sử dụng Hugging Face ................................ 104 Hình B. 24 Hình ảnh các mô hình chat ở chế độ Hugging Face ...................................... 104\n",
      "\n",
      "Trang | 5\n",
      "\n",
      "Ký hiệu từ viết tắt\n",
      "\n",
      "API\n",
      "\n",
      "TTS\n",
      "\n",
      "NLU\n",
      "\n",
      "NER\n",
      "\n",
      "NLG\n",
      "\n",
      "AI\n",
      "\n",
      "cmd\n",
      "\n",
      "NLP\n",
      "\n",
      "XLM-R\n",
      "\n",
      "NN\n",
      "\n",
      "CNN\n",
      "\n",
      "DANH MỤC CÁC TỪ VIÊT TẮT\n",
      "\n",
      "Tên đầy đủ\n",
      "\n",
      "Diễn giải\n",
      "\n",
      "Application Programming Interface\n",
      "\n",
      "Giao diện lập trình ứng dụng\n",
      "\n",
      "Text To Speech\n",
      "\n",
      "Chuyển đổi văn bản thanh giọng nói\n",
      "\n",
      "Natural Language Understanding\n",
      "\n",
      "Hiểu ngôn ngữ tự nhiên\n",
      "\n",
      "Name Entity Recognition\n",
      "\n",
      "Nhận dạng thực thể\n",
      "\n",
      "Natural language generation\n",
      "\n",
      "Bộ sinh ngôn ngữ tự nhiên\n",
      "\n",
      "Artificial Intelligence' metadata={'source': './example_data/demo1.pdf'}\n"
     ]
    }
   ],
   "source": [
    "print(pages_PdfUnstructured[7])"
   ]
  },
  {
   "cell_type": "code",
   "execution_count": 133,
   "metadata": {},
   "outputs": [],
   "source": [
    "loader = PyMuPDFLoader(\"./example_data/demo1.pdf\")\n",
    "pages_PyMuPDF = loader.load_and_split()"
   ]
  },
  {
   "cell_type": "code",
   "execution_count": 137,
   "metadata": {},
   "outputs": [
    {
     "name": "stdout",
     "output_type": "stream",
     "text": [
      "page_content='ĐH SƯ PHẠM KỸTHUẬT TP.HCM\n",
      "KHOA CNTT\n",
      "*******\n",
      "CỘNG HOÀ\n",
      "XÃ HỘI CHỦNGHĨA VIỆT NAM\n",
      "Độc\n",
      "Độc lập – Tựdo – Hạnh Phúc\n",
      "*******\n",
      "PHIÊU NHẬN XÉT CỦA GIÁO VIÊN HƯỚNG DẪN\n",
      "Họva tên Sinh viên 1 : Võ Như Ý\n",
      "MSSV 1: 20133118\n",
      "Họva tên Sinh viên 2 : Nguyễn Quang Phúc\n",
      "MSSV 2: 20133080\n",
      "Nganh: Kỹthuật dữliệu\n",
      "Tên đềtai: Tìm hiểu vềcác thư viện hỗtrợxây dựng chatbot\n",
      "Họva tên Giáo viên hướng dẫn: TS. Trần Nhật Quang\n",
      "NHẬN XÉT\n",
      "Vềnội dung đềtai & khối lượng thực hiện:\n",
      "…………….………..……….……………………………………………………………..\n",
      "…………….………..……….……………………………………………………………..\n",
      "…………….………..……….……………………………………………………………..\n",
      "…………….………..……….……………………………………………………………..\n",
      "…………….………..……….……………………………………………………………..\n",
      "…………….………..……….……………………………………………………………..\n",
      "1. Ưu điểm:\n",
      "…………….………..……….………………………………………………………………\n",
      "…………….………..……….………………………………………………………………\n",
      "…………….………..……….………………………………………………………………\n",
      "………………………………………………………………………………………………\n",
      "2. Khuyết điểm\n",
      "…………….………..……….………………………………………………………………\n",
      "…………….………..……….………………………………………………………………\n",
      "…………….………..……….………………………………………………………………\n",
      "………………………………………………………………………………………………' metadata={'source': './example_data/demo1.pdf', 'file_path': './example_data/demo1.pdf', 'page': 1, 'total_pages': 113, 'format': 'PDF 1.7', 'title': '', 'author': 'Acer', 'subject': '', 'keywords': '', 'creator': 'WPS Writer', 'producer': '', 'creationDate': \"D:20240405123749+05'37'\", 'modDate': \"D:20240405123749+05'37'\", 'trapped': ''}\n"
     ]
    }
   ],
   "source": [
    "print(pages_PyMuPDF[1])"
   ]
  },
  {
   "cell_type": "markdown",
   "metadata": {},
   "source": [
    "Nhận xét: Dễ dàng nhận ra 1 điều khi extract nội dung file trên chỉ có PDfMiner và UnstructuredPDF sẽ không thuân theo từng trang tức là nội dung sẽ được phân phối qua các trang, còn đối vói khi sử dụng các hàm còn lại có thể thấy rằng nội dung chỉ trong 1 trang đó và nếu sủ dụng spitter thì nó vẫn chỉ chứa mình trang đó mà k chứa qua các trang khác, nếu như vậy thì nội dung khi đưa vào các hàm sau sẽ không được đảm bảo. Và vì vậy nhóm quyết định sử dụng UnstructuredPDF vì nó sẽ hỗ trợ cho tài liệu không có cấu trúc."
   ]
  },
  {
   "cell_type": "markdown",
   "metadata": {},
   "source": [
    "## Extract docx"
   ]
  },
  {
   "cell_type": "code",
   "execution_count": null,
   "metadata": {},
   "outputs": [],
   "source": [
    "from langchain.document_loaders import Docx2txtLoader\n",
    "from langchain.document_loaders import UnstructuredWordDocumentLoader"
   ]
  },
  {
   "cell_type": "code",
   "execution_count": 71,
   "metadata": {},
   "outputs": [
    {
     "name": "stdout",
     "output_type": "stream",
     "text": [
      "Using Docx2txtLoader...\n",
      "Using UnstructuredWordDocumentLoader...\n"
     ]
    },
    {
     "data": {
      "text/html": [
       "<div>\n",
       "<style scoped>\n",
       "    .dataframe tbody tr th:only-of-type {\n",
       "        vertical-align: middle;\n",
       "    }\n",
       "\n",
       "    .dataframe tbody tr th {\n",
       "        vertical-align: top;\n",
       "    }\n",
       "\n",
       "    .dataframe thead th {\n",
       "        text-align: right;\n",
       "    }\n",
       "</style>\n",
       "<table border=\"1\" class=\"dataframe\">\n",
       "  <thead>\n",
       "    <tr style=\"text-align: right;\">\n",
       "      <th></th>\n",
       "      <th>Loader</th>\n",
       "      <th>Elapsed Time (s)</th>\n",
       "    </tr>\n",
       "  </thead>\n",
       "  <tbody>\n",
       "    <tr>\n",
       "      <th>0</th>\n",
       "      <td>Docx2txtLoader</td>\n",
       "      <td>0.005001</td>\n",
       "    </tr>\n",
       "    <tr>\n",
       "      <th>1</th>\n",
       "      <td>UnstructuredWordDocumentLoader</td>\n",
       "      <td>0.068183</td>\n",
       "    </tr>\n",
       "  </tbody>\n",
       "</table>\n",
       "</div>"
      ],
      "text/plain": [
       "                           Loader  Elapsed Time (s)\n",
       "0                  Docx2txtLoader          0.005001\n",
       "1  UnstructuredWordDocumentLoader          0.068183"
      ]
     },
     "metadata": {},
     "output_type": "display_data"
    }
   ],
   "source": [
    "import time\n",
    "import pandas as pd\n",
    "from langchain.document_loaders import Docx2txtLoader\n",
    "from langchain.document_loaders import UnstructuredWordDocumentLoader\n",
    "\n",
    "docx_path = \"./example_data/GloriaGonzalezCV.docx\"\n",
    "loaders = [\n",
    "    (\"Docx2txtLoader\", Docx2txtLoader),\n",
    "    (\"UnstructuredWordDocumentLoader\", UnstructuredWordDocumentLoader)\n",
    "]\n",
    "\n",
    "\n",
    "results = []\n",
    "for loader_name, LoaderClass in loaders:\n",
    "    print(f\"Using {loader_name}...\")\n",
    "    try:\n",
    "        start_time = time.time()\n",
    "        loader = LoaderClass(docx_path)\n",
    "        pages = loader.load_and_split()\n",
    "        elapsed_time = time.time() - start_time\n",
    "        results.append({\n",
    "            \"Loader\": loader_name,\n",
    "            \"Elapsed Time (s)\": elapsed_time\n",
    "        })\n",
    "    except Exception as e:\n",
    "        print(f\"Failed to load using {loader_name}: {e}\")\n",
    "        results.append({\n",
    "            \"Loader\": loader_name,\n",
    "            \"Elapsed Time (s)\": \"Failed\"\n",
    "        })\n",
    "\n",
    "df = pd.DataFrame(results)\n",
    "from IPython.display import display\n",
    "display(df)\n"
   ]
  },
  {
   "cell_type": "markdown",
   "metadata": {},
   "source": [
    "## Extract TXT"
   ]
  },
  {
   "cell_type": "code",
   "execution_count": 73,
   "metadata": {},
   "outputs": [],
   "source": [
    "from langchain.document_loaders import TextLoader\n"
   ]
  },
  {
   "cell_type": "code",
   "execution_count": 77,
   "metadata": {},
   "outputs": [
    {
     "data": {
      "text/plain": [
       "[Document(metadata={'source': './example_data/JuanGarciaCV.txt'}, page_content='\\ufeffJUAN GARCIA (217) 123 - 4567 • jgarcia@illinois.edu \\n\\t\\n\\n\\tEDUCATION \\n\\t\\n\\n\\tDoctor of Philosophy in Civil and Environmental Engineering \\nUniversity of Illinois at Urbana-Champaign \\nDissertation title: “Visualizing Geotechnical Engineering Principles” \\nAdvisor: Professor Ted S. Visor \\n\\tExpected Fall 20XX \\n\\tBachelor of Science in Civil Engineering \\nUniversidad Nacional de San Juan, San Juan, Argentina (UNSJ) \\n\\tMay 20XX \\n\\tRESEARCH INTERESTS \\n\\t\\n\\n\\tInvestigations to improve seismic force-resisting systems through simulations and various visualization techniques. \\n\\t\\n\\n\\tRESEARCH EXPERIENCE \\n\\t\\n\\n\\tGraduate Research Assistant \\nDepartment of Civil Engineering, University of Illinois \\nDesign and execute small-scale testing to validate control algorithms derived to simulate seismic force-resistance. \\nContribute to multi-disciplinary project aimed at developing visualizations and simulations to predict seismic force damage to various materials. \\nCollaborate and coordinate with faculty, staff scientists, and fellow graduate students across departments. \\n\\t20XX - Present \\n\\tUndergraduate Consultant \\nDepartamento de Ingeniería, UNSJ \\nSelected by the General Director of the City Planning Department of San Juan, to participate in the structural analysis and seismic assessment of the Dr. Guillermo Rawson Hospital, one of the largest construction projects to date in the most hazardous seismic area in Argentina. \\nCollaborated with two other members of a team to carry out a nonlinear static analysis of the structure – primary objective and main focus of the project – in agreement with FEMA 356 Pre-standard for the Seismic Rehabilitation of buildings. \\n\\t20XX \\n\\tTEACHING AND MENTORING EXPERIENCE \\n\\t\\n\\n\\tTeaching Assistant, Introduction to Structural Engineering \\nCollege of Engineering, University of Illinois \\nPrepared lectures and class activities focusing on the analysis of determinate and indeterminate structures for 15-25 freshman and sophomore level undergraduates. \\nCreated and graded course assessments to ensure students understood material and stayed on track. \\nRecognized as List of Teachers Ranked Excellent by Their Students. \\n\\tSpring 20XX - Present \\n\\tInstructor, Latino/a Culture \\nAnthropology Department, University of Illinois \\nIntegrated multimedia approaches and used instructional technology to enhance pedagogical approach. \\nExplained challenging concepts using planned lessons, assignments and targeted discussions for 75 freshmen and sophomore students. \\n\\tSpring - Fall 20XX \\n\\tGraduate Mentor, Illinois Summer Research Opportunities Program \\nThe Graduate College, University of Illinois \\nMentored two undergraduate students in data collection and analysis to visualize the properties of various geotechnical materials. \\nGuided the students in preparation and presentation of research findings. \\n\\tSummer 20XX, 20XX')]"
      ]
     },
     "execution_count": 77,
     "metadata": {},
     "output_type": "execute_result"
    }
   ],
   "source": [
    "loader = TextLoader(r\"./example_data/JuanGarciaCV.txt\",encoding=\"utf8\")\n",
    "loader.load_and_split()"
   ]
  },
  {
   "cell_type": "markdown",
   "metadata": {},
   "source": [
    "## Extract PPTX"
   ]
  },
  {
   "cell_type": "code",
   "execution_count": null,
   "metadata": {},
   "outputs": [],
   "source": [
    "from langchain.document_loaders import UnstructuredPowerPointLoader\n"
   ]
  },
  {
   "cell_type": "code",
   "execution_count": 78,
   "metadata": {},
   "outputs": [
    {
     "data": {
      "text/plain": [
       "[Document(metadata={'source': './example_data/JuanGarciaCV.txt'}, page_content='\\ufeffJUAN GARCIA (217) 123 - 4567 • jgarcia@illinois.edu \\n\\t\\n\\n\\tEDUCATION \\n\\t\\n\\n\\tDoctor of Philosophy in Civil and Environmental Engineering \\nUniversity of Illinois at Urbana-Champaign \\nDissertation title: “Visualizing Geotechnical Engineering Principles” \\nAdvisor: Professor Ted S. Visor \\n\\tExpected Fall 20XX \\n\\tBachelor of Science in Civil Engineering \\nUniversidad Nacional de San Juan, San Juan, Argentina (UNSJ) \\n\\tMay 20XX \\n\\tRESEARCH INTERESTS \\n\\t\\n\\n\\tInvestigations to improve seismic force-resisting systems through simulations and various visualization techniques. \\n\\t\\n\\n\\tRESEARCH EXPERIENCE \\n\\t\\n\\n\\tGraduate Research Assistant \\nDepartment of Civil Engineering, University of Illinois \\nDesign and execute small-scale testing to validate control algorithms derived to simulate seismic force-resistance. \\nContribute to multi-disciplinary project aimed at developing visualizations and simulations to predict seismic force damage to various materials. \\nCollaborate and coordinate with faculty, staff scientists, and fellow graduate students across departments. \\n\\t20XX - Present \\n\\tUndergraduate Consultant \\nDepartamento de Ingeniería, UNSJ \\nSelected by the General Director of the City Planning Department of San Juan, to participate in the structural analysis and seismic assessment of the Dr. Guillermo Rawson Hospital, one of the largest construction projects to date in the most hazardous seismic area in Argentina. \\nCollaborated with two other members of a team to carry out a nonlinear static analysis of the structure – primary objective and main focus of the project – in agreement with FEMA 356 Pre-standard for the Seismic Rehabilitation of buildings. \\n\\t20XX \\n\\tTEACHING AND MENTORING EXPERIENCE \\n\\t\\n\\n\\tTeaching Assistant, Introduction to Structural Engineering \\nCollege of Engineering, University of Illinois \\nPrepared lectures and class activities focusing on the analysis of determinate and indeterminate structures for 15-25 freshman and sophomore level undergraduates. \\nCreated and graded course assessments to ensure students understood material and stayed on track. \\nRecognized as List of Teachers Ranked Excellent by Their Students. \\n\\tSpring 20XX - Present \\n\\tInstructor, Latino/a Culture \\nAnthropology Department, University of Illinois \\nIntegrated multimedia approaches and used instructional technology to enhance pedagogical approach. \\nExplained challenging concepts using planned lessons, assignments and targeted discussions for 75 freshmen and sophomore students. \\n\\tSpring - Fall 20XX \\n\\tGraduate Mentor, Illinois Summer Research Opportunities Program \\nThe Graduate College, University of Illinois \\nMentored two undergraduate students in data collection and analysis to visualize the properties of various geotechnical materials. \\nGuided the students in preparation and presentation of research findings. \\n\\tSummer 20XX, 20XX')]"
      ]
     },
     "execution_count": 78,
     "metadata": {},
     "output_type": "execute_result"
    }
   ],
   "source": [
    "loader = TextLoader(r\"./example_data/JuanGarciaCV.txt\",encoding=\"utf8\")\n",
    "loader.load_and_split()"
   ]
  },
  {
   "cell_type": "markdown",
   "metadata": {},
   "source": [
    "## Extract CSV,XLSX"
   ]
  },
  {
   "cell_type": "code",
   "execution_count": null,
   "metadata": {},
   "outputs": [],
   "source": [
    "from langchain.document_loaders import CSVLoader\n",
    "from langchain.document_loaders import UnstructuredCSVLoader\n"
   ]
  },
  {
   "cell_type": "code",
   "execution_count": 79,
   "metadata": {},
   "outputs": [
    {
     "name": "stdout",
     "output_type": "stream",
     "text": [
      "CSVLoader elapsed time: 0.0209 seconds\n",
      "UnstructuredCSVLoader elapsed time: 0.3236 seconds\n"
     ]
    }
   ],
   "source": [
    "import time\n",
    "from langchain.document_loaders import CSVLoader\n",
    "from langchain.document_loaders import UnstructuredCSVLoader\n",
    "csv_path = \"./example_data/bank-data_VN.csv\"\n",
    "start_time_csvloader = time.time()\n",
    "csv_loader = CSVLoader(csv_path)\n",
    "csv_pages = csv_loader.load_and_split()\n",
    "elapsed_time_csvloader = time.time() - start_time_csvloader\n",
    "print(f\"CSVLoader elapsed time: {elapsed_time_csvloader:.4f} seconds\")\n",
    "\n",
    "# Đo thời gian chạy của loader UnstructuredCSVLoader\n",
    "start_time_unstructuredcsvloader = time.time()\n",
    "unstructured_csv_loader = UnstructuredCSVLoader(csv_path)\n",
    "unstructured_csv_pages = unstructured_csv_loader.load_and_split()\n",
    "elapsed_time_unstructuredcsvloader = time.time() - start_time_unstructuredcsvloader\n",
    "print(f\"UnstructuredCSVLoader elapsed time: {elapsed_time_unstructuredcsvloader:.4f} seconds\")\n"
   ]
  },
  {
   "cell_type": "markdown",
   "metadata": {},
   "source": [
    "- Nhận xét: Dựa vào thời gian trên có thể thầy rằng việc sử dụng CSV_Loader sẽ có thời gian phản hồi nhanh hơn."
   ]
  },
  {
   "cell_type": "markdown",
   "metadata": {},
   "source": [
    "# Json Loader"
   ]
  },
  {
   "cell_type": "markdown",
   "metadata": {},
   "source": [
    "- Nhận xét: Với các file Json không thể sủ dụng được JSON Loader vì cấu trúc của file là khác nhau thay vì đó sử dụng TextLoader là hợp lý hơn.\n"
   ]
  },
  {
   "cell_type": "code",
   "execution_count": 91,
   "metadata": {},
   "outputs": [],
   "source": [
    "from langchain.document_loaders import TextLoader\n"
   ]
  },
  {
   "cell_type": "code",
   "execution_count": 80,
   "metadata": {},
   "outputs": [],
   "source": [
    "loader = TextLoader(\"./example_data/demo1.json\")"
   ]
  },
  {
   "cell_type": "code",
   "execution_count": 81,
   "metadata": {},
   "outputs": [],
   "source": [
    "pagesd = loader.load_and_split()"
   ]
  },
  {
   "cell_type": "markdown",
   "metadata": {},
   "source": [
    "# Markdown Loader"
   ]
  },
  {
   "cell_type": "code",
   "execution_count": null,
   "metadata": {},
   "outputs": [],
   "source": [
    "from langchain.document_loaders import ToMarkdownLoader\n",
    "from langchain.document_loaders import UnstructuredMarkdownLoader"
   ]
  },
  {
   "cell_type": "code",
   "execution_count": 86,
   "metadata": {},
   "outputs": [
    {
     "name": "stdout",
     "output_type": "stream",
     "text": [
      "UnstructuredMarkdownLoader elapsed time: 0.0970 seconds\n"
     ]
    }
   ],
   "source": [
    "\n",
    "from langchain.document_loaders import UnstructuredMarkdownLoader\n",
    "markdown_path = \"./example_data/README.md\"\n",
    "\n",
    "\n",
    "start_time_unstructured_markdown_loader = time.time()\n",
    "unstructured_markdown_loader = UnstructuredMarkdownLoader(markdown_path)\n",
    "unstructured_markdown_pages = unstructured_markdown_loader.load_and_split()\n",
    "elapsed_time_unstructured_markdown_loader = time.time() - start_time_unstructured_markdown_loader\n",
    "print(f\"UnstructuredMarkdownLoader elapsed time: {elapsed_time_unstructured_markdown_loader:.4f} seconds\")\n"
   ]
  },
  {
   "cell_type": "code",
   "execution_count": 90,
   "metadata": {},
   "outputs": [
    {
     "name": "stdout",
     "output_type": "stream",
     "text": [
      "[Document(metadata={'source': './example_data/README.md'}, page_content=\"pychatbot\\n\\nYet another chatgpt web made by streamlit!\\n\\nOnline Demo Server BackEnd on Huggingface\\n\\nFeature\\n\\nMulti chats\\n\\nSupport file pdf, docx, txt, pptx, csv, xlsx, json, md\\n\\nDifferent Role(Prompt) Selection\\n\\nChat name editable\\n\\nDelete chats\\n\\nExport conversion to markdown\\n\\nSupport downloading all tables in answer to excel\\n\\nSupport streaming\\n\\nAuthenticate\\n\\nRegenerate\\n\\nStop generating while streaming\\n\\nLogin Email, Login Google\\n\\nUpLoaf File, Update UserInforMation\\n\\nContact/FeedBack\\n\\nJoin group community\\n\\nStart\\n\\nPython3 environment ready. Please choose python version 3.10 to 3.11.2\\n\\nFirst, you need to fill in the .env variables: BE_API(The link is taken from the BackEnd server when running the code), EMAIL,PASSWORD_EMAIL,EMAIL_DOMAIN ,GOOGLE_OAUTH2(CLIENT_ID)(CLIENT_SECRET), note that these properties are the same as the CLIENT_ID in the BackEnd side's.\\n\\nInstall requirement. python -m pip install -r requirements.txt\\n\\nLaunch. streamlit run login.py\")]\n"
     ]
    }
   ],
   "source": [
    "print(unstructured_markdown_pages)"
   ]
  }
 ],
 "metadata": {
  "kernelspec": {
   "display_name": "venv",
   "language": "python",
   "name": "python3"
  },
  "language_info": {
   "codemirror_mode": {
    "name": "ipython",
    "version": 3
   },
   "file_extension": ".py",
   "mimetype": "text/x-python",
   "name": "python",
   "nbconvert_exporter": "python",
   "pygments_lexer": "ipython3",
   "version": "3.11.2"
  }
 },
 "nbformat": 4,
 "nbformat_minor": 2
}
